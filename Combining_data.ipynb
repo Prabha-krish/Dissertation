{
  "nbformat": 4,
  "nbformat_minor": 0,
  "metadata": {
    "colab": {
      "provenance": [],
      "collapsed_sections": [
        "7ivz-MDmQXyK",
        "oCp7G4dKQPH-"
      ],
      "gpuType": "V100",
      "authorship_tag": "ABX9TyNfaHZGkn32qvu8rvV1RlRz",
      "include_colab_link": true
    },
    "kernelspec": {
      "name": "python3",
      "display_name": "Python 3"
    },
    "language_info": {
      "name": "python"
    },
    "accelerator": "GPU"
  },
  "cells": [
    {
      "cell_type": "markdown",
      "metadata": {
        "id": "view-in-github",
        "colab_type": "text"
      },
      "source": [
        "<a href=\"https://colab.research.google.com/github/Prabha-krish/Dissertation/blob/main/Combining_data.ipynb\" target=\"_parent\"><img src=\"https://colab.research.google.com/assets/colab-badge.svg\" alt=\"Open In Colab\"/></a>"
      ]
    },
    {
      "cell_type": "markdown",
      "source": [
        "#Readind new images set"
      ],
      "metadata": {
        "id": "7ivz-MDmQXyK"
      }
    },
    {
      "cell_type": "code",
      "source": [
        "#mounting HR dataset into Google Colab\n",
        "from google.colab import drive\n",
        "drive.mount('/content/drive')\n",
        "\n",
        "%cd \"/content/drive/MyDrive/Project/Colab Notebooks/new data\""
      ],
      "metadata": {
        "colab": {
          "base_uri": "https://localhost:8080/"
        },
        "id": "1wPsznQNH9U-",
        "outputId": "d4a39f11-041f-4971-9812-0d788dcf374b"
      },
      "execution_count": null,
      "outputs": [
        {
          "output_type": "stream",
          "name": "stdout",
          "text": [
            "Drive already mounted at /content/drive; to attempt to forcibly remount, call drive.mount(\"/content/drive\", force_remount=True).\n",
            "/content/drive/MyDrive/Project/Colab Notebooks/new data\n"
          ]
        }
      ]
    },
    {
      "cell_type": "code",
      "execution_count": null,
      "metadata": {
        "id": "FZq-qibPOTpH"
      },
      "outputs": [],
      "source": [
        "# reading  HR\n",
        "#import below libraries\n",
        "import os   # to work with file paths & directories\n",
        "import cv2  # image processing\n",
        "import re   # regular expression matching\n",
        "\n",
        "# to sort the images in alpha numeric order\n",
        "def sorted_alphanumeric(data):\n",
        "    convert = lambda text: int(text) if text.isdigit() else text.lower()\n",
        "    alphanum_key = lambda key: [convert(c) for c in re.split('([0-9]+)', key)]\n",
        "    return sorted(data, key=alphanum_key)\n",
        "\n",
        "path_HR = '/content/drive/MyDrive/Project/Colab Notebooks/new data'\n",
        "\n",
        "HR_files = sorted_alphanumeric(os.listdir(path_HR))\n",
        "# reading images\n",
        "# array to store images\n",
        "images_HR = []\n",
        "\n",
        "\n",
        "for file_HR in HR_files:\n",
        "    if file_HR == '0901.jpg':\n",
        "        break\n",
        "\n",
        "    image_path_HR = os.path.join(path_HR, file_HR)\n",
        "    HR_image = cv2.imread(image_path_HR)\n",
        "    images_HR.append(HR_image)"
      ]
    },
    {
      "cell_type": "code",
      "source": [
        "#resizing them to match with old dataset\n",
        "import os\n",
        "import cv2\n",
        "\n",
        "resized_images_HR=[]\n",
        "\n",
        "path_HR = '/content/drive/MyDrive/Project/Colab Notebooks/new data'\n",
        "def resize_image(image, target_size=(256, 256)):\n",
        "    return cv2.resize(image, target_size)\n",
        "resized_images_HR = [resize_image(cv2.imread(os.path.join(path_HR, file_HR))) for file_HR in HR_files]\n",
        "\n",
        "print(resized_images_HR[0].shape)\n"
      ],
      "metadata": {
        "colab": {
          "base_uri": "https://localhost:8080/"
        },
        "id": "tsrVzRGtMB3b",
        "outputId": "ae5731f5-4423-4b93-85bb-ae84e65aecd4"
      },
      "execution_count": null,
      "outputs": [
        {
          "output_type": "stream",
          "name": "stdout",
          "text": [
            "(256, 256, 3)\n"
          ]
        }
      ]
    },
    {
      "cell_type": "code",
      "source": [
        "import numpy as np\n",
        "HRre_images = np.array(resized_images_HR) #reading downsampled images to LR_image\n",
        "height, width, channels = HRre_images.shape[:3]\n",
        "HRre_images.shape"
      ],
      "metadata": {
        "colab": {
          "base_uri": "https://localhost:8080/"
        },
        "id": "nmKDCa2fNH6a",
        "outputId": "4e440eca-adcd-418b-a073-2a4b3e03bf3e"
      },
      "execution_count": null,
      "outputs": [
        {
          "output_type": "execute_result",
          "data": {
            "text/plain": [
              "(900, 256, 256, 3)"
            ]
          },
          "metadata": {},
          "execution_count": 23
        }
      ]
    },
    {
      "cell_type": "markdown",
      "source": [
        "#reading old set"
      ],
      "metadata": {
        "id": "QJFu9GMtQeul"
      }
    },
    {
      "cell_type": "code",
      "execution_count": null,
      "metadata": {
        "colab": {
          "base_uri": "https://localhost:8080/"
        },
        "id": "g6eRp1Z8y-uR",
        "outputId": "7fc45f23-4a08-4023-cde2-6cdb4d60609e"
      },
      "outputs": [
        {
          "output_type": "stream",
          "name": "stdout",
          "text": [
            "Drive already mounted at /content/drive; to attempt to forcibly remount, call drive.mount(\"/content/drive\", force_remount=True).\n",
            "/content/drive/MyDrive/Project/Colab Notebooks/high_res\n"
          ]
        }
      ],
      "source": [
        "#mounting HR dataset into Google Colab\n",
        "from google.colab import drive\n",
        "drive.mount('/content/drive')\n",
        "\n",
        "%cd \"/content/drive/MyDrive/Project/Colab Notebooks/high_res\"\n"
      ]
    },
    {
      "cell_type": "code",
      "source": [
        "import os\n",
        "\n",
        "path_HR = '/content/drive/MyDrive/Project/Colab Notebooks/high_res'\n",
        "HR_files = os.listdir(path_HR)\n",
        "\n",
        "\n",
        "start_index = 901\n",
        "\n",
        "for i, file_HR in enumerate(HR_files):\n",
        "    if file_HR == '855.jpg':\n",
        "        continue\n",
        "\n",
        "    image_path_HR = os.path.join(path_HR, file_HR)\n",
        "    new_filename = f\"{start_index + i:04d}.jpg\"\n",
        "\n",
        "\n",
        "    new_image_path_HR = os.path.join(path_HR, new_filename)\n",
        "\n",
        "    os.rename(image_path_HR, new_image_path_HR)\n",
        "\n",
        "print(\"Image renaming completed.\")\n",
        "\n"
      ],
      "metadata": {
        "colab": {
          "base_uri": "https://localhost:8080/"
        },
        "id": "rlDRXjcAzNI0",
        "outputId": "c46b11a7-3b12-4981-e6ce-09fe5563a47c"
      },
      "execution_count": null,
      "outputs": [
        {
          "output_type": "stream",
          "name": "stdout",
          "text": [
            "Image renaming completed.\n"
          ]
        }
      ]
    },
    {
      "cell_type": "code",
      "execution_count": null,
      "metadata": {
        "id": "xymBvHGOdPLi"
      },
      "outputs": [],
      "source": [
        "# reading  HR\n",
        "#import below libraries\n",
        "import os   # to work with file paths & directories\n",
        "import cv2  # image processing\n",
        "import re   # regular expression matching\n",
        "\n",
        "# to sort the images in alpha numeric order\n",
        "def sorted_alphanumeric(data):\n",
        "    convert = lambda text: int(text) if text.isdigit() else text.lower()\n",
        "    alphanum_key = lambda key: [convert(c) for c in re.split('([0-9]+)', key)]\n",
        "    return sorted(data, key=alphanum_key)\n",
        "\n",
        "path_HRR = '/content/drive/MyDrive/Project/Colab Notebooks/high_res'\n",
        "\n",
        "HR_file = sorted_alphanumeric(os.listdir(path_HRR))\n",
        "# reading images\n",
        "# array to store images\n",
        "images_High = []\n",
        "\n",
        "\n",
        "for file_HR in HR_file:\n",
        "    if file_HR == '1756.jpg':\n",
        "        break\n",
        "\n",
        "    image_path_HRR = os.path.join(path_HRR, file_HR)\n",
        "    High_image = cv2.imread(image_path_HRR)\n",
        "    images_High.append(High_image)"
      ]
    },
    {
      "cell_type": "code",
      "source": [
        "import numpy as np\n",
        "images_old = np.array(images_High)\n",
        "height, width, channels = images_old .shape[:3]\n",
        "images_old.shape"
      ],
      "metadata": {
        "colab": {
          "base_uri": "https://localhost:8080/"
        },
        "id": "QZgjZTjyPLdi",
        "outputId": "6ec3d86b-0341-4746-e676-aa71c3db8bb1"
      },
      "execution_count": null,
      "outputs": [
        {
          "output_type": "execute_result",
          "data": {
            "text/plain": [
              "(855, 256, 256, 3)"
            ]
          },
          "metadata": {},
          "execution_count": 5
        }
      ]
    },
    {
      "cell_type": "code",
      "source": [
        "# Degradation technique - salt and pepper\n",
        "#import cv2\n",
        "#import numpy as np\n",
        "#import os\n",
        "density = 0.01\n",
        "def add_salt_and_pepper_noise(image, density):\n",
        "    noise_img = np.copy(image)\n",
        "    height, width = noise_img.shape[:2]\n",
        "    num_pixel = int(height * width * density)\n",
        "\n",
        "    salt_pixel = np.random.randint(0, width, num_pixel)\n",
        "    pepper_pixel = np.random.randint(0, width, num_pixel)\n",
        "    random_rows = np.random.randint(0, height, num_pixel)\n",
        "\n",
        "    noise_img[random_rows, salt_pixel] = 100\n",
        "    noise_img[random_rows, pepper_pixel] = 0\n",
        "\n",
        "    return noise_img\n",
        "\n",
        "\n",
        "hr_salt_pepper = '/content/drive/MyDrive/Project/Colab Notebooks/hr_salt'\n",
        "HR_deg_dir = '/content/drive/MyDrive/Project/Colab Notebooks/HR_deg'\n",
        "os.makedirs(HR_deg_dir, exist_ok=True)\n",
        "\n",
        "for i, image in enumerate(images_High):\n",
        "   noisy_hr_image = add_salt_and_pepper_noise(image, density)\n",
        "   filename = f'image_{i}.jpg'\n",
        "   noisy_image_path = os.path.join(HR_deg_dir, filename)\n",
        "   cv2.imwrite(noisy_image_path, noisy_hr_image)\n",
        "\n"
      ],
      "metadata": {
        "id": "1x67TB-BR5Rx"
      },
      "execution_count": null,
      "outputs": []
    },
    {
      "cell_type": "markdown",
      "source": [
        "#Merging two datasets"
      ],
      "metadata": {
        "id": "oCp7G4dKQPH-"
      }
    },
    {
      "cell_type": "code",
      "source": [
        "pip install pathlib\n"
      ],
      "metadata": {
        "colab": {
          "base_uri": "https://localhost:8080/"
        },
        "id": "TdKyO2v3QOzN",
        "outputId": "f18f5b2d-e285-4dc4-b284-a8fc05412f76"
      },
      "execution_count": null,
      "outputs": [
        {
          "output_type": "stream",
          "name": "stdout",
          "text": [
            "Requirement already satisfied: pathlib in /usr/local/lib/python3.10/dist-packages (1.0.1)\n"
          ]
        }
      ]
    },
    {
      "cell_type": "code",
      "source": [
        "import os\n",
        "import shutil\n",
        "from pathlib import Path\n",
        "\n",
        "def merge_datasets(source_dir, destination_dir):\n",
        "    Path(destination_dir).mkdir(parents=True, exist_ok=True)\n",
        "    for root, _, files in os.walk(source_dir):\n",
        "        for file in files:\n",
        "            src_file_path = os.path.join(root, file)\n",
        "            dst_file_path = os.path.join(destination_dir, file)\n",
        "            shutil.copy(src_file_path, dst_file_path)\n",
        "\n",
        "if __name__ == \"__main__\":\n",
        "    source_dir1 = \"/content/drive/MyDrive/Project/Colab Notebooks/new data\"\n",
        "    source_dir2 = \"/content/drive/MyDrive/Project/Colab Notebooks/high_res\"\n",
        "    destination_dir = \"/content/drive/MyDrive/Project/Colab Notebooks/merged_HRdata\"\n",
        "\n",
        "    merge_datasets(source_dir1, destination_dir)\n",
        "    merge_datasets(source_dir2, destination_dir)\n"
      ],
      "metadata": {
        "id": "owj1enzEQ0DU"
      },
      "execution_count": null,
      "outputs": []
    },
    {
      "cell_type": "markdown",
      "source": [
        "#Reading HR data"
      ],
      "metadata": {
        "id": "22hiQdAPYrHn"
      }
    },
    {
      "cell_type": "code",
      "source": [
        "#mounting HR dataset into Google Colab\n",
        "from google.colab import drive\n",
        "drive.mount('/content/drive')\n",
        "\n",
        "%cd \"/content/drive/MyDrive/Project/Colab Notebooks/merged_HRdata\"\n"
      ],
      "metadata": {
        "colab": {
          "base_uri": "https://localhost:8080/"
        },
        "id": "WRfRAbHiTLBT",
        "outputId": "ecc1f36d-ee72-4d45-d498-858fc0cabc55"
      },
      "execution_count": null,
      "outputs": [
        {
          "output_type": "stream",
          "name": "stdout",
          "text": [
            "Drive already mounted at /content/drive; to attempt to forcibly remount, call drive.mount(\"/content/drive\", force_remount=True).\n",
            "/content/drive/MyDrive/Project/Colab Notebooks/merged_HRdata\n"
          ]
        }
      ]
    },
    {
      "cell_type": "code",
      "execution_count": null,
      "metadata": {
        "id": "9t3mL_-NTWNc"
      },
      "outputs": [],
      "source": [
        "# reading  HR\n",
        "#import below libraries\n",
        "import os   # to work with file paths & directories\n",
        "import cv2  # image processing\n",
        "import re   # regular expression matching\n",
        "\n",
        "# to sort the images in alpha numeric order\n",
        "def sorted_alphanumeric(data):\n",
        "    convert = lambda text: int(text) if text.isdigit() else text.lower()\n",
        "    alphanum_key = lambda key: [convert(c) for c in re.split('([0-9]+)', key)]\n",
        "    return sorted(data, key=alphanum_key)\n",
        "\n",
        "def preprocess_images(images, target_size):\n",
        "    resized_images = []\n",
        "    for image in images:\n",
        "        resized_image = cv2.resize(image, target_size, interpolation=cv2.INTER_AREA)\n",
        "        resized_images.append(resized_image)\n",
        "    return resized_images\n",
        "\n",
        "path_HR = '/content/drive/MyDrive/Project/Colab Notebooks/merged_HRdata'\n",
        "\n",
        "HR_files = sorted_alphanumeric(os.listdir(path_HR))\n",
        "# reading images\n",
        "# array to store images\n",
        "images_HR = []\n",
        "\n",
        "\n",
        "for file_HR in HR_files:\n",
        "    if file_HR == '1756.jpg':\n",
        "        break\n",
        "\n",
        "    image_path_HR = os.path.join(path_HR, file_HR)\n",
        "    HR_image = cv2.imread(image_path_HR)\n",
        "    if HR_image is not None:\n",
        "        images_HR.append(HR_image)\n",
        "target_size = (256, 256)\n",
        "resized_images_HR= preprocess_images(images_HR, target_size)\n"
      ]
    },
    {
      "cell_type": "code",
      "source": [
        "height, width, _ = HR_image.shape\n",
        "HR_image.shape\n"
      ],
      "metadata": {
        "colab": {
          "base_uri": "https://localhost:8080/"
        },
        "id": "2-6EqDUzVqaR",
        "outputId": "0ac57d53-755c-4dee-b51c-cdd65105a631"
      },
      "execution_count": null,
      "outputs": [
        {
          "output_type": "execute_result",
          "data": {
            "text/plain": [
              "(256, 256, 3)"
            ]
          },
          "metadata": {},
          "execution_count": 3
        }
      ]
    },
    {
      "cell_type": "code",
      "source": [
        "import numpy as np\n",
        "\n",
        "HR_images = np.array(resized_images_HR)\n",
        "height, width, channels = HR_images.shape[:3]\n",
        "HR_images.shape\n"
      ],
      "metadata": {
        "colab": {
          "base_uri": "https://localhost:8080/"
        },
        "id": "wOVsjW1RgZAK",
        "outputId": "b62ed2e0-ad11-4a39-8ada-0f70c7356e87"
      },
      "execution_count": null,
      "outputs": [
        {
          "output_type": "execute_result",
          "data": {
            "text/plain": [
              "(1754, 256, 256, 3)"
            ]
          },
          "metadata": {},
          "execution_count": 5
        }
      ]
    }
  ]
}